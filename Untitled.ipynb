{
 "cells": [
  {
   "cell_type": "markdown",
   "metadata": {},
   "source": [
    "# Red de Investigaciones de Tecnología Avanzada - RITA\n",
    "\n",
    "# Iniciando con Python\n",
    "\n",
    "Bienvenidos! En este notebook encontrarás una introducción a los conceptos  básicos de Python. Python es un lenguaje interpretado, esto hace que interactuar y aprender el lenguaje sea bastante sencillo, pues basta con ejecutar el interprete y listo.\n",
    "\n",
    "A medida que avances, asegúrate de guardar tu trabajo."
   ]
  },
  {
   "cell_type": "code",
   "execution_count": null,
   "metadata": {},
   "outputs": [],
   "source": []
  },
  {
   "cell_type": "code",
   "execution_count": null,
   "metadata": {},
   "outputs": [],
   "source": []
  }
 ],
 "metadata": {
  "kernelspec": {
   "display_name": "Python 3",
   "language": "python",
   "name": "python3"
  },
  "language_info": {
   "codemirror_mode": {
    "name": "ipython",
    "version": 3
   },
   "file_extension": ".py",
   "mimetype": "text/x-python",
   "name": "python",
   "nbconvert_exporter": "python",
   "pygments_lexer": "ipython3",
   "version": "3.7.0"
  }
 },
 "nbformat": 4,
 "nbformat_minor": 2
}
